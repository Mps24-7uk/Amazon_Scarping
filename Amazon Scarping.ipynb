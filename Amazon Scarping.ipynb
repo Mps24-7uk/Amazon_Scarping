{
 "cells": [
  {
   "cell_type": "code",
   "execution_count": null,
   "metadata": {
    "collapsed": true
   },
   "outputs": [],
   "source": [
    "# python programing\n",
    "# soup --> find ul id = s-results-list-atf\n",
    "# \t\t\tfindall li class = s-result-item celwidget  \n",
    "# \t\t\t\tfindall a and get second a tag\n",
    "# \t\t\t\t\t\ta['href']\n",
    "# \t\t\t\t\t\ta.text# python programing"
   ]
  },
  {
   "cell_type": "code",
   "execution_count": 2,
   "metadata": {
    "collapsed": true
   },
   "outputs": [],
   "source": [
    "from selenium import webdriver\n",
    "from bs4 import BeautifulSoup\n",
    "import pandas as pd"
   ]
  },
  {
   "cell_type": "code",
   "execution_count": 25,
   "metadata": {
    "collapsed": true
   },
   "outputs": [],
   "source": [
    "class book():\n",
    "    def __init__(self):\n",
    "        self.title=\"\"\n",
    "        self.link=\"\"\n",
    "        self.author=\"\"\n",
    "        self.pagination=\"\""
   ]
  },
  {
   "cell_type": "code",
   "execution_count": 38,
   "metadata": {
    "collapsed": true
   },
   "outputs": [],
   "source": [
    "def get_pagination_link():\n",
    "    driver = webdriver.Chrome(executable_path='C:\\chromedriver_win32\\chromedriver.exe')\n",
    "\n",
    "    driver.get(\"https://www.amazon.in/s/ref=sr_pg_1?rh=i%3Aaps%2Ck%3Apython+programming+books&keywords=python+programming+books&ie=UTF8&qid=1519491173\")\n",
    "    \n",
    "    list1 = []\n",
    "    \n",
    "    new_pagination=book()\n",
    "    new_pagination.pagiantion=driver.current_url\n",
    "    list1.append(new_pagination)\n",
    "    \n",
    "    for q in range(0,4):\n",
    "\n",
    "        element=driver.find_element_by_partial_link_text('Next Page')\n",
    "        driver.execute_script(\"arguments[0].click();\", element)\n",
    "        driver.get(driver.current_url)\n",
    "        new_pagination=book()\n",
    "        new_pagination.pagiantion=driver.current_url\n",
    "        list1.append(new_pagination)\n",
    "    \n",
    "    driver.close()\n",
    "    return list1"
   ]
  },
  {
   "cell_type": "code",
   "execution_count": 39,
   "metadata": {
    "collapsed": true
   },
   "outputs": [],
   "source": [
    "list2=get_pagination_link()"
   ]
  },
  {
   "cell_type": "code",
   "execution_count": 40,
   "metadata": {},
   "outputs": [
    {
     "name": "stdout",
     "output_type": "stream",
     "text": [
      "https://www.amazon.in/s/ref=sr_pg_1?rh=i%3Aaps%2Ck%3Apython+programming+books&keywords=python+programming+books&ie=UTF8&qid=1519491173\n",
      "https://www.amazon.in/s/ref=sr_pg_2/261-4953552-2968528?rh=i%3Aaps%2Ck%3Apython+programming+books&page=2&keywords=python+programming+books&ie=UTF8&qid=1519539716\n"
     ]
    }
   ],
   "source": [
    "for page in list2[0:2]:\n",
    "    print(page.pagiantion)"
   ]
  },
  {
   "cell_type": "code",
   "execution_count": 70,
   "metadata": {
    "collapsed": true
   },
   "outputs": [],
   "source": [
    "def get_book_list(list2):\n",
    "\n",
    "    driver = webdriver.Chrome(executable_path='C:\\chromedriver_win32\\chromedriver.exe')\n",
    "    list3=[]\n",
    "    for page in list2[0:2]:\n",
    "    \n",
    "        driver.get(page.pagiantion)\n",
    "        soup = BeautifulSoup(driver.page_source, 'lxml')\n",
    "        ul = soup.find('ul', {'id':'s-results-list-atf'})\n",
    "\n",
    "\n",
    "        for li in ul.find_all('li', class_ = 's-result-item celwidget '):\n",
    "\n",
    "            all_a = li.find_all('a')\n",
    "            #print(all_a[1].text)\n",
    "            #print(all_a[1]['href'])\n",
    "\n",
    "            new_book = book()\n",
    "            new_book.title = all_a[1].text\n",
    "            new_book.link = all_a[1]['href']\n",
    "            list3.append(new_book)\n",
    "\n",
    "\n",
    "    driver.quit()\n",
    "    \n",
    "    \n",
    "    return list3"
   ]
  },
  {
   "cell_type": "code",
   "execution_count": 71,
   "metadata": {},
   "outputs": [],
   "source": [
    "list4=get_book_list(list2)"
   ]
  },
  {
   "cell_type": "code",
   "execution_count": 75,
   "metadata": {
    "scrolled": true
   },
   "outputs": [
    {
     "name": "stdout",
     "output_type": "stream",
     "text": [
      "https://www.amazon.in/Programming-motivated-individual-experience-Analytics/dp/8193173961/ref=sr_1_1/261-2552145-9964414?ie=UTF8&qid=1519540642&sr=8-1&keywords=python+programming+books\n",
      "https://www.amazon.in/Core-Python-Programming-Nageswara-Rao/dp/9351199428/ref=sr_1_2/261-2552145-9964414?ie=UTF8&qid=1519540642&sr=8-2&keywords=python+programming+books\n",
      "https://www.amazon.in/Python-Beginners-programming-web-programming-programmer-ebook/dp/B075JGW5YK/ref=sr_1_3/261-2552145-9964414?ie=UTF8&qid=1519540642&sr=8-3&keywords=python+programming+books\n",
      "https://www.amazon.in/Learning-Python-Powerful-Object-Oriented-Programming/dp/9351102017/ref=sr_1_4/261-2552145-9964414?ie=UTF8&qid=1519540642&sr=8-4&keywords=python+programming+books\n"
     ]
    }
   ],
   "source": [
    "for a in list4[0:4]:\n",
    "    print(a.link)"
   ]
  },
  {
   "cell_type": "code",
   "execution_count": 79,
   "metadata": {
    "collapsed": true
   },
   "outputs": [],
   "source": [
    "def get_detail_book(book_list):\n",
    "    driver1 = webdriver.Chrome(executable_path='C:\\chromedriver_win32\\chromedriver.exe')   \n",
    "    for p in book_list[0:5]: # This will display Details of first five \n",
    "        \n",
    "        \n",
    "        driver1.get(p.link) \n",
    "        soup4=BeautifulSoup(driver1.page_source,'lxml')    \n",
    "        div=soup4.find('div',{'id':'booksTitle'})\n",
    "        p.author=div.find('a',class_=\"a-link-normal\" ).text\n",
    "               \n",
    "    driver1.quit()\n",
    "    \n",
    "    return book_list"
   ]
  },
  {
   "cell_type": "code",
   "execution_count": 80,
   "metadata": {
    "collapsed": true
   },
   "outputs": [],
   "source": [
    "bd=get_detail_book(list4)"
   ]
  },
  {
   "cell_type": "code",
   "execution_count": 84,
   "metadata": {},
   "outputs": [
    {
     "name": "stdout",
     "output_type": "stream",
     "text": [
      "Python Programming - Learn & Practice\n",
      "https://www.amazon.in/Programming-motivated-individual-experience-Analytics/dp/8193173961/ref=sr_1_1/261-2552145-9964414?ie=UTF8&qid=1519540642&sr=8-1&keywords=python+programming+books\n",
      "creative and highly motivated individual, who has a passion for the Su Swapnil Saurav has more than 13 years of work experience in IT industry with focus on Supply Chain Analytics. He is an ambitious\n",
      " \n",
      "Core Python Programming\n",
      "https://www.amazon.in/Core-Python-Programming-Nageswara-Rao/dp/9351199428/ref=sr_1_2/261-2552145-9964414?ie=UTF8&qid=1519540642&sr=8-2&keywords=python+programming+books\n",
      "R. Nageswara Rao\n",
      " \n",
      "Python: For Beginners: A Crash Course Guide To Learn Python in 1 Week (coding, programming, web-programming, programmer)\n",
      "https://www.amazon.in/Python-Beginners-programming-web-programming-programmer-ebook/dp/B075JGW5YK/ref=sr_1_3/261-2552145-9964414?ie=UTF8&qid=1519540642&sr=8-3&keywords=python+programming+books\n",
      "Visit Amazon's Timothy C. Needham Page\n",
      " \n",
      "Learning Python: Powerful Object-Oriented Programming: 5th Edition\n",
      "https://www.amazon.in/Learning-Python-Powerful-Object-Oriented-Programming/dp/9351102017/ref=sr_1_4/261-2552145-9964414?ie=UTF8&qid=1519540642&sr=8-4&keywords=python+programming+books\n",
      "Lutz M\n",
      " \n",
      "Python\n",
      "https://www.amazon.in/Python-Mike-McGrath/dp/9351343081/ref=sr_1_5/261-2552145-9964414?ie=UTF8&qid=1519540642&sr=8-5&keywords=python+programming+books\n",
      "Visit Amazon's Mike McGrath Page\n",
      " \n"
     ]
    }
   ],
   "source": [
    "for one_book in bd[0:5]:\n",
    "    print(one_book.title)\n",
    "    print(one_book.link)\n",
    "    print(one_book.author)\n",
    "    print(\" \")"
   ]
  },
  {
   "cell_type": "code",
   "execution_count": 86,
   "metadata": {
    "collapsed": true
   },
   "outputs": [],
   "source": [
    "Book_Detail=pd.DataFrame(columns=['Title','Author','Link'])"
   ]
  },
  {
   "cell_type": "code",
   "execution_count": 87,
   "metadata": {
    "collapsed": true
   },
   "outputs": [],
   "source": [
    "for all_detail in bd[0:5]:\n",
    "    Book_Detail=Book_Detail.append(pd.Series([all_detail.title,all_detail.author,all_detail.link], ['Title','Author','Link']), ignore_index=True)"
   ]
  },
  {
   "cell_type": "code",
   "execution_count": 88,
   "metadata": {},
   "outputs": [
    {
     "data": {
      "text/html": [
       "<div>\n",
       "<style>\n",
       "    .dataframe thead tr:only-child th {\n",
       "        text-align: right;\n",
       "    }\n",
       "\n",
       "    .dataframe thead th {\n",
       "        text-align: left;\n",
       "    }\n",
       "\n",
       "    .dataframe tbody tr th {\n",
       "        vertical-align: top;\n",
       "    }\n",
       "</style>\n",
       "<table border=\"1\" class=\"dataframe\">\n",
       "  <thead>\n",
       "    <tr style=\"text-align: right;\">\n",
       "      <th></th>\n",
       "      <th>Title</th>\n",
       "      <th>Author</th>\n",
       "      <th>Link</th>\n",
       "    </tr>\n",
       "  </thead>\n",
       "  <tbody>\n",
       "    <tr>\n",
       "      <th>0</th>\n",
       "      <td>Python Programming - Learn &amp; Practice</td>\n",
       "      <td>creative and highly motivated individual, who ...</td>\n",
       "      <td>https://www.amazon.in/Programming-motivated-in...</td>\n",
       "    </tr>\n",
       "    <tr>\n",
       "      <th>1</th>\n",
       "      <td>Core Python Programming</td>\n",
       "      <td>R. Nageswara Rao</td>\n",
       "      <td>https://www.amazon.in/Core-Python-Programming-...</td>\n",
       "    </tr>\n",
       "    <tr>\n",
       "      <th>2</th>\n",
       "      <td>Python: For Beginners: A Crash Course Guide To...</td>\n",
       "      <td>Visit Amazon's Timothy C. Needham Page</td>\n",
       "      <td>https://www.amazon.in/Python-Beginners-program...</td>\n",
       "    </tr>\n",
       "    <tr>\n",
       "      <th>3</th>\n",
       "      <td>Learning Python: Powerful Object-Oriented Prog...</td>\n",
       "      <td>Lutz M</td>\n",
       "      <td>https://www.amazon.in/Learning-Python-Powerful...</td>\n",
       "    </tr>\n",
       "    <tr>\n",
       "      <th>4</th>\n",
       "      <td>Python</td>\n",
       "      <td>Visit Amazon's Mike McGrath Page</td>\n",
       "      <td>https://www.amazon.in/Python-Mike-McGrath/dp/9...</td>\n",
       "    </tr>\n",
       "  </tbody>\n",
       "</table>\n",
       "</div>"
      ],
      "text/plain": [
       "                                               Title  \\\n",
       "0              Python Programming - Learn & Practice   \n",
       "1                            Core Python Programming   \n",
       "2  Python: For Beginners: A Crash Course Guide To...   \n",
       "3  Learning Python: Powerful Object-Oriented Prog...   \n",
       "4                                             Python   \n",
       "\n",
       "                                              Author  \\\n",
       "0  creative and highly motivated individual, who ...   \n",
       "1                                   R. Nageswara Rao   \n",
       "2             Visit Amazon's Timothy C. Needham Page   \n",
       "3                                             Lutz M   \n",
       "4                   Visit Amazon's Mike McGrath Page   \n",
       "\n",
       "                                                Link  \n",
       "0  https://www.amazon.in/Programming-motivated-in...  \n",
       "1  https://www.amazon.in/Core-Python-Programming-...  \n",
       "2  https://www.amazon.in/Python-Beginners-program...  \n",
       "3  https://www.amazon.in/Learning-Python-Powerful...  \n",
       "4  https://www.amazon.in/Python-Mike-McGrath/dp/9...  "
      ]
     },
     "execution_count": 88,
     "metadata": {},
     "output_type": "execute_result"
    }
   ],
   "source": [
    "Book_Detail"
   ]
  },
  {
   "cell_type": "code",
   "execution_count": 89,
   "metadata": {
    "collapsed": true
   },
   "outputs": [],
   "source": [
    "Book_Detail.to_csv(\"Amazon_Python_Book_Scraping.csv\", index=False)"
   ]
  }
 ],
 "metadata": {
  "kernelspec": {
   "display_name": "Python 3",
   "language": "python",
   "name": "python3"
  },
  "language_info": {
   "codemirror_mode": {
    "name": "ipython",
    "version": 3
   },
   "file_extension": ".py",
   "mimetype": "text/x-python",
   "name": "python",
   "nbconvert_exporter": "python",
   "pygments_lexer": "ipython3",
   "version": "3.6.2"
  }
 },
 "nbformat": 4,
 "nbformat_minor": 2
}
